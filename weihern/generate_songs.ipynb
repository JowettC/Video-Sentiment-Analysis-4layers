{
 "cells": [
  {
   "cell_type": "code",
   "execution_count": 1,
   "metadata": {},
   "outputs": [
    {
     "name": "stderr",
     "output_type": "stream",
     "text": [
      "Using `localhost` as redirect URI without a port. Specify a port (e.g. `localhost:8080`) to allow automatic retrieval of authentication code instead of having to copy and paste the URL your browser is redirected to.\n"
     ]
    },
    {
     "name": "stdout",
     "output_type": "stream",
     "text": [
      "Enter the URL you were redirected to: http://localhost/?code=AQCXKWkC5u62kyT_35GAzhMD08UC_xHtEQDBRhms7dPMHD0D3R8vWvfXKA9VmEVsepeG2lFIWotKymgtR-MtqOAL7PaJYF1rRbQB7hkRgrn8tvwWti7CuecYYIP4rjjDDA0sbhZs0HXFG7XywaTn6_mfx1Opyu52hrLfqcMac5YdhqYdPzrbQYumiRK2\n"
     ]
    }
   ],
   "source": [
    "from  helpers import *\n",
    "import spotipy\n",
    "from spotipy import SpotifyClientCredentials, util\n",
    "import pandas as pd"
   ]
  },
  {
   "cell_type": "code",
   "execution_count": 2,
   "metadata": {
    "scrolled": true,
    "tags": []
   },
   "outputs": [],
   "source": [
    "client_id='3f27ae63f74843ba9f372448388ae599'\n",
    "client_secret='916b7434b6924e0ab3d7c859e40d9d22'\n",
    "redirect_uri='http://localhost/'\n",
    "\n",
    "username = '21npq7e3t6hqd5za6clsr5ltq'\n",
    "scope_playlist = 'playlist-modify-public'\n",
    "scope_user = 'user-library-modify'\n",
    "scope_playing = 'user-read-currently-playing'\n",
    "\n",
    "#Credentials to access the Spotify Music Data\n",
    "manager = SpotifyClientCredentials(client_id,client_secret)\n",
    "sp = spotipy.Spotify(client_credentials_manager=manager)\n",
    "\n",
    "# #Credentials to access the actual song played\n",
    "# token_actual = util.prompt_for_user_token(username,scope_playing,client_id,client_secret,redirect_uri) \n",
    "# sp_actual = spotipy.Spotify(auth=token_actual)\n",
    "\n",
    "# #Credentiasl to acces the library music \n",
    "# token_user= util.prompt_for_user_token(username,scope_user,client_id,client_secret,redirect_uri) \n",
    "# sp_user = spotipy.Spotify(auth=token_user)\n",
    "\n",
    "# #Credentiasl to acces the Playlists Music\n",
    "# token_playlist= util.prompt_for_user_token(username,scope_playlist,client_id,client_secret,redirect_uri) \n",
    "# sp_playlist = spotipy.Spotify(auth=token_playlist)"
   ]
  },
  {
   "cell_type": "code",
   "execution_count": 3,
   "metadata": {
    "scrolled": false
   },
   "outputs": [
    {
     "name": "stdout",
     "output_type": "stream",
     "text": [
      "Music Downloaded!\n"
     ]
    }
   ],
   "source": [
    "# tuple of playlist_id and mood\n",
    "playlist_id = [('5bWn8XcgI3hv2vpWjNq8la','angry'),\n",
    "               ('7s09coXLGbofhNrwSusr4G','happy'),\n",
    "               ('4AgjOnto33QrMYHykHd4Nb','depress'),\n",
    "               ('37i9dQZF1DX9etR9S28cIo','calm')]\n",
    "all_tracks = []\n",
    "# Add all tracks data into all_tracks\n",
    "for playlist,mood in playlist_id:\n",
    "    result = download_playlist(playlist,1000)\n",
    "    all_tracks.append(result)\n",
    "\n",
    "# print(all_tracks[0][0])"
   ]
  },
  {
   "cell_type": "code",
   "execution_count": 4,
   "metadata": {
    "scrolled": true
   },
   "outputs": [
    {
     "name": "stdout",
     "output_type": "stream",
     "text": [
      "[['Fuck You', \"It's Not Me, It's You (Special Edition)\", 'Lily Allen', '4XE98WRGbBGRZ7jQ9wIwFt', '2008-12-02', 62, 219893, 0.775, 0.0271, 0.904, 0.000303, 0.06, 0.84, -4.08, 0.0437, 130.009, 1, 4, 'angry'], ['So What', 'Funhouse (Expanded Edition)', 'P!nk', '0JiY190vktuhSGN6aqJdrt', '2008-10-24', 77, 215160, 0.534, 0.000334, 0.87, 0, 0.241, 0.462, -3.078, 0.0425, 126.019, 11, 4, 'angry'], ['Fighter', 'Stripped', 'Christina Aguilera', '7nXq1vaZiz7PdbfojpPjW5', '2002-07-19', 68, 245960, 0.435, 0.235, 0.92, 0.000353, 0.552, 0.45, -1.357, 0.201, 188.899, 4, 4, 'angry'], ['Girlfriend', 'The Best Damn Thing (Expanded Edition)', 'Avril Lavigne', '45hOioMDJktr86iKDHC8gr', '2007-04-17', 76, 216600, 0.56, 0.000722, 0.959, 0.000221, 0.209, 0.669, -2.433, 0.102, 163.983, 7, 4, 'angry']]\n"
     ]
    }
   ],
   "source": [
    "import csv\n",
    "\n",
    "data = []\n",
    "for i in range(0,len(all_tracks)):\n",
    "    # Data Manipulation for songs and mood \n",
    "    playlist = all_tracks[i]\n",
    "    header = playlist[-1]\n",
    "    songs = list(playlist[:-1][0])\n",
    "    mood = playlist_id[i][1] \n",
    "\n",
    "    for song in songs:\n",
    "        song.append(mood)\n",
    "        data.append(song)\n",
    "\n",
    "print(data[0:4])\n",
    "header.append('mood')\n",
    "\n",
    "with open('songs.csv', 'w', encoding='UTF8', newline='') as f:\n",
    "    writer = csv.writer(f)\n",
    "\n",
    "    # write the header\n",
    "    writer.writerow(header)\n",
    "\n",
    "#     write multiple rows\n",
    "    writer.writerows(data)"
   ]
  },
  {
   "cell_type": "code",
   "execution_count": null,
   "metadata": {},
   "outputs": [],
   "source": [
    "# Shuffle data in csv\n",
    "# df = pd.read_csv('songs.csv')\n",
    "# df = df.sample(frac=1)\n",
    "# df.to_csv('song1.csv',index=False)"
   ]
  },
  {
   "cell_type": "markdown",
   "metadata": {},
   "source": [
    "# Testing to check find songs by artist and track "
   ]
  },
  {
   "cell_type": "code",
   "execution_count": 5,
   "metadata": {
    "scrolled": true
   },
   "outputs": [
    {
     "name": "stdout",
     "output_type": "stream",
     "text": [
      "1ZLrDPgR7mvuTco3rQK8Pk\n",
      "(['Way Back Home (feat. Conor Maynard) - Sam Feldt Edit', 'Way Back Home (feat. Conor Maynard) [Sam Feldt Edit]', 'SHAUN', '1ZLrDPgR7mvuTco3rQK8Pk', '2018-12-21', 73, 192452, 0.737, 0.269, 0.747, 0, 0.219, 0.447, -4.818, 0.0323, 105.943, 10, 4], ['name', 'album', 'artist', 'id', 'release_date', 'popularity', 'length', 'danceability', 'acousticness', 'energy', 'instrumentalness', 'liveness', 'valence', 'loudness', 'speechiness', 'tempo', 'key', 'time_signature'])\n"
     ]
    }
   ],
   "source": [
    "import spotipy\n",
    "from spotipy.oauth2 import SpotifyClientCredentials\n",
    "\n",
    "# testing for model usage \n",
    "sp = spotipy.Spotify(auth_manager=SpotifyClientCredentials(client_id=\"3f27ae63f74843ba9f372448388ae599\",\n",
    "                                                           client_secret=\"916b7434b6924e0ab3d7c859e40d9d22\"))\n",
    "artist= 'SHAUN'\n",
    "track= 'Way Back Home'\n",
    "\n",
    "results = sp.search(q='artist:' + artist + ' track:' + track, type='track')\n",
    "# results = test.search(q='weezer', limit=20)\n",
    "song_id = results['tracks']['items'][0]['id']\n",
    "print(song_id)\n",
    "song_feature = get_songs_features(song_id)\n",
    "print(song_feature)\n",
    "\n",
    "# for idx, track in enumerate(results['tracks']['items']):\n",
    "#     print(idx, track['name'])"
   ]
  }
 ],
 "metadata": {
  "kernelspec": {
   "display_name": "Python 3",
   "language": "python",
   "name": "python3"
  },
  "language_info": {
   "codemirror_mode": {
    "name": "ipython",
    "version": 3
   },
   "file_extension": ".py",
   "mimetype": "text/x-python",
   "name": "python",
   "nbconvert_exporter": "python",
   "pygments_lexer": "ipython3",
   "version": "3.8.3"
  },
  "vscode": {
   "interpreter": {
    "hash": "b09ec625f77bf4fd762565a912b97636504ad6ec901eb2d0f4cf5a7de23e1ee5"
   }
  }
 },
 "nbformat": 4,
 "nbformat_minor": 2
}
